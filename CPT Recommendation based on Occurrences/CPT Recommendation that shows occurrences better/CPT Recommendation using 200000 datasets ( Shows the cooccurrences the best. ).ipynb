{
 "cells": [
  {
   "cell_type": "code",
   "execution_count": 1,
   "id": "80f1eb1e",
   "metadata": {},
   "outputs": [],
   "source": [
    "import pandas as pd\n",
    "from collections import defaultdict\n",
    "import random\n",
    "import csv\n",
    "from itertools import combinations"
   ]
  },
  {
   "cell_type": "code",
   "execution_count": 2,
   "id": "31f9ebdb",
   "metadata": {},
   "outputs": [],
   "source": [
    "#Creating 200000 datasets\n",
    "\n",
    "#Number of Claims and number of CPT codes for each claim\n",
    "num_claims = 200000\n",
    "num_cpt_codes = 8\n",
    "filename = 'claims_synthetic_dataset(200000try).csv'"
   ]
  },
  {
   "cell_type": "code",
   "execution_count": 3,
   "id": "1afb86d1",
   "metadata": {},
   "outputs": [],
   "source": [
    "#Generating random CPT codes for each claim\n",
    "data = []\n",
    "for i in range(num_claims):\n",
    "    claim_cpt_codes = set()\n",
    "    while len(claim_cpt_codes) < num_cpt_codes:\n",
    "        cpt_code = f'{random.randint(99900, 99999):05d}'\n",
    "        claim_cpt_codes.add(cpt_code)\n",
    "    claim_data = {'Claim': f'Claim {i+1}'}\n",
    "    for j, cpt_code in enumerate(claim_cpt_codes):\n",
    "        claim_data[f'CPT Code {j+1}'] = cpt_code\n",
    "    data.append(claim_data)"
   ]
  },
  {
   "cell_type": "code",
   "execution_count": 4,
   "id": "b21fa778",
   "metadata": {},
   "outputs": [
    {
     "name": "stdout",
     "output_type": "stream",
     "text": [
      "Dataset with 200000 claims and 8 unique CPT codes per claim saved to claims_synthetic_dataset(200000try).csv successfully!!!\n"
     ]
    }
   ],
   "source": [
    "# Writing data to CSV file\n",
    "with open(filename, 'w', newline='') as file:\n",
    "    writer = csv.DictWriter(file, fieldnames=['Claim'] + [f'CPT Code {j+1}' for j in range(num_cpt_codes)])\n",
    "    writer.writeheader()\n",
    "    writer.writerows(data)\n",
    "\n",
    "print(f\"Dataset with {num_claims} claims and {num_cpt_codes} unique CPT codes per claim saved to {filename} successfully!!!\")"
   ]
  },
  {
   "cell_type": "code",
   "execution_count": 5,
   "id": "f2637768",
   "metadata": {},
   "outputs": [],
   "source": [
    "# Loading the dataset\n",
    "df = pd.read_csv('claims_synthetic_dataset(200000try).csv')"
   ]
  },
  {
   "cell_type": "code",
   "execution_count": 6,
   "id": "962ee541",
   "metadata": {},
   "outputs": [],
   "source": [
    "# Function to suggest the most commonly occurring CPT codes in the dataset\n",
    "def suggest_common_cpts(num_suggestions):\n",
    "    cpt_counts = defaultdict(int)\n",
    "    for _, row in df.iterrows():\n",
    "        cpt_codes = [str(row[f'CPT Code {i+1}']) for i in range(num_cpt_codes)]\n",
    "        for cpt in cpt_codes:\n",
    "            cpt_counts[cpt] += 1\n",
    "    \n",
    "    sorted_cpt_counts = sorted(cpt_counts.items(), key=lambda x: x[1], reverse=True)\n",
    "    suggested_cpts = [cpt for cpt, _ in sorted_cpt_counts[:num_suggestions]]\n",
    "    suggested_cpt_occurrences = [cpt_counts[cpt] for cpt in suggested_cpts]\n",
    "\n",
    "    return suggested_cpts, suggested_cpt_occurrences"
   ]
  },
  {
   "cell_type": "code",
   "execution_count": 7,
   "id": "36cd299e",
   "metadata": {},
   "outputs": [],
   "source": [
    "# Suggesting the most commonly occurring CPT codes in the dataset\n",
    "num_common_suggestions = 10\n",
    "common_cpts, common_cpt_occurrences = suggest_common_cpts(num_common_suggestions)"
   ]
  },
  {
   "cell_type": "code",
   "execution_count": 8,
   "id": "aa5d5a78",
   "metadata": {},
   "outputs": [
    {
     "name": "stdout",
     "output_type": "stream",
     "text": [
      "\n",
      "The most commonly occurring CPT codes in the dataset are:\n",
      " 1: CPT 99934 (Occurrences: 16240)\n",
      " 2: CPT 99907 (Occurrences: 16218)\n",
      " 3: CPT 99977 (Occurrences: 16208)\n",
      " 4: CPT 99991 (Occurrences: 16200)\n",
      " 5: CPT 99956 (Occurrences: 16179)\n",
      " 6: CPT 99967 (Occurrences: 16157)\n",
      " 7: CPT 99925 (Occurrences: 16156)\n",
      " 8: CPT 99929 (Occurrences: 16137)\n",
      " 9: CPT 99928 (Occurrences: 16129)\n",
      " 10: CPT 99927 (Occurrences: 16124)\n"
     ]
    }
   ],
   "source": [
    "# Displaying the results\n",
    "print(f\"\\nThe most commonly occurring CPT codes in the dataset are:\")\n",
    "for i, (cpt, occurrences) in enumerate(zip(common_cpts, common_cpt_occurrences), 1):\n",
    "    print(f\" {i}: CPT {cpt} (Occurrences: {occurrences})\")"
   ]
  },
  {
   "cell_type": "code",
   "execution_count": 9,
   "id": "70a19078",
   "metadata": {},
   "outputs": [],
   "source": [
    "# Function to find the most common pair of CPT codes that occur within the same claim\n",
    "def find_common_cpt_pairs():\n",
    "    cpt_pairs = defaultdict(int)\n",
    "    for _, row in df.iterrows():\n",
    "        cpt_codes = [str(row[f'CPT Code {i+1}']) for i in range(num_cpt_codes)]\n",
    "        for i in range(num_cpt_codes):\n",
    "            for j in range(i+1, num_cpt_codes):\n",
    "                pair = (cpt_codes[i], cpt_codes[j])\n",
    "                cpt_pairs[pair] += 1\n",
    "\n",
    "    sorted_cpt_pairs = sorted(cpt_pairs.items(), key=lambda x: x[1], reverse=True)\n",
    "    most_common_pairs = sorted_cpt_pairs[:8] \n",
    "    return most_common_pairs"
   ]
  },
  {
   "cell_type": "code",
   "execution_count": 10,
   "id": "5232a6e5",
   "metadata": {},
   "outputs": [],
   "source": [
    "# Finding the most common CPT code pairs\n",
    "most_common_cpt_pairs = find_common_cpt_pairs()"
   ]
  },
  {
   "cell_type": "code",
   "execution_count": 11,
   "id": "951f5c9e",
   "metadata": {},
   "outputs": [
    {
     "name": "stdout",
     "output_type": "stream",
     "text": [
      "\n",
      "The most common CPT code pairs that occur within the same claim are:\n",
      "Pair 1: CPT 99910 and CPT 99959 (Occurrences: 1269)\n",
      "Pair 2: CPT 99934 and CPT 99929 (Occurrences: 1263)\n",
      "Pair 3: CPT 99934 and CPT 99953 (Occurrences: 1244)\n",
      "Pair 4: CPT 99967 and CPT 99949 (Occurrences: 1243)\n",
      "Pair 5: CPT 99950 and CPT 99977 (Occurrences: 1237)\n",
      "Pair 6: CPT 99967 and CPT 99928 (Occurrences: 1231)\n",
      "Pair 7: CPT 99935 and CPT 99943 (Occurrences: 1227)\n",
      "Pair 8: CPT 99929 and CPT 99979 (Occurrences: 1226)\n"
     ]
    }
   ],
   "source": [
    "# Displaying the results\n",
    "print(\"\\nThe most common CPT code pairs that occur within the same claim are:\")\n",
    "for i, ((cpt1, cpt2), occurrences) in enumerate(most_common_cpt_pairs, 1):\n",
    "    print(f\"Pair {i}: CPT {cpt1} and CPT {cpt2} (Occurrences: {occurrences})\")"
   ]
  },
  {
   "cell_type": "code",
   "execution_count": 12,
   "id": "626787c2",
   "metadata": {},
   "outputs": [],
   "source": [
    "# Function to suggest multiple sets of three CPT codes that occur in the same row\n",
    "def suggest_common_cooccurring_cpts(num_suggestions):\n",
    "    cpt_counts = defaultdict(int)\n",
    "    for _, row in df.iterrows():\n",
    "        cpt_codes = [str(row[f'CPT Code {i+1}']) for i in range(num_cpt_codes)]\n",
    "        for combo in combinations(cpt_codes, 3):\n",
    "            cpt_counts[combo] += 1\n",
    "    \n",
    "    sorted_cpt_counts = sorted(cpt_counts.items(), key=lambda x: x[1], reverse=True)\n",
    "    suggested_cpts = [cpt for cpt, _ in sorted_cpt_counts[:num_suggestions]]\n",
    "    suggested_cpt_occurrences = [cpt_counts[cpt] for cpt in suggested_cpts]\n",
    "\n",
    "    return suggested_cpts, suggested_cpt_occurrences"
   ]
  },
  {
   "cell_type": "code",
   "execution_count": 13,
   "id": "d06db8c7",
   "metadata": {},
   "outputs": [],
   "source": [
    "# Suggesting multiple sets of three CPT codes that occur in the same row\n",
    "num_common_suggestions = 5\n",
    "common_cpts, common_cpt_occurrences = suggest_common_cooccurring_cpts(num_common_suggestions)"
   ]
  },
  {
   "cell_type": "code",
   "execution_count": 14,
   "id": "bdebee42",
   "metadata": {},
   "outputs": [
    {
     "name": "stdout",
     "output_type": "stream",
     "text": [
      "\n",
      "The most commonly occurring sets of three CPT codes are:\n",
      "Suggestion 1: CPT 99912, CPT 99916, CPT 99982 (Occurrences: 106)\n",
      "Suggestion 2: CPT 99934, CPT 99980, CPT 99936 (Occurrences: 104)\n",
      "Suggestion 3: CPT 99912, CPT 99958, CPT 99979 (Occurrences: 104)\n",
      "Suggestion 4: CPT 99961, CPT 99993, CPT 99936 (Occurrences: 103)\n",
      "Suggestion 5: CPT 99965, CPT 99933, CPT 99900 (Occurrences: 103)\n"
     ]
    }
   ],
   "source": [
    "# Display the results\n",
    "print(f\"\\nThe most commonly occurring sets of three CPT codes are:\")\n",
    "for i, (cpts, occurrences) in enumerate(zip(common_cpts, common_cpt_occurrences), 1):\n",
    "    cpt1, cpt2, cpt3 = cpts\n",
    "    print(f\"Suggestion {i}: CPT {cpt1}, CPT {cpt2}, CPT {cpt3} (Occurrences: {occurrences})\")"
   ]
  },
  {
   "cell_type": "code",
   "execution_count": 15,
   "id": "e9fa33b8",
   "metadata": {},
   "outputs": [],
   "source": [
    "# Function to suggest the most co-occurring next CPT codes based on selected CPT codes\n",
    "def suggest_next_cpt(selected_cpt_codes, num_suggestions):\n",
    "    cooccurrence_row_counts = defaultdict(int)  \n",
    "    for _, row in df.iterrows():\n",
    "        row_cpt_codes = [str(row[f'CPT Code {i+1}']) for i in range(num_cpt_codes)]\n",
    "        if set(selected_cpt_codes).issubset(row_cpt_codes):\n",
    "            for cpt in row_cpt_codes:\n",
    "                if cpt not in selected_cpt_codes:\n",
    "                    cooccurrence_row_counts[cpt] += 1\n",
    "\n",
    "    sorted_next_cpts = sorted(cooccurrence_row_counts.items(), key=lambda x: x[1], reverse=True)\n",
    "    suggested_cpts = [cpt for cpt, _ in sorted_next_cpts[:num_suggestions]]\n",
    "    suggested_cpt_occurrences = [cooccurrence_row_counts[cpt] for cpt in suggested_cpts]\n",
    "\n",
    "    return suggested_cpts, suggested_cpt_occurrences"
   ]
  },
  {
   "cell_type": "code",
   "execution_count": 16,
   "id": "bd982f20",
   "metadata": {},
   "outputs": [],
   "source": [
    "# Function to check if the selected CPT codes are valid\n",
    "def is_valid_cpt(cpt_codes):\n",
    "    for cpt in cpt_codes:\n",
    "        if not (99900 <= int(cpt) <= 99999):\n",
    "            return False\n",
    "    return True"
   ]
  },
  {
   "cell_type": "code",
   "execution_count": 17,
   "id": "95f4996d",
   "metadata": {},
   "outputs": [
    {
     "name": "stdout",
     "output_type": "stream",
     "text": [
      "Invalid CPT code(s) entered. CPT codes should be in the range of 99900 to 99999.\n"
     ]
    }
   ],
   "source": [
    "# Example usage\n",
    "selected_cpt_codes = ['9992','99967','99964']\n",
    "if not is_valid_cpt(selected_cpt_codes):\n",
    "    print(\"Invalid CPT code(s) entered. CPT codes should be in the range of 99900 to 99999.\")\n",
    "else:\n",
    "    num_suggestions = 3\n",
    "    suggested_cpts, suggested_cpt_occurrences = suggest_next_cpt(selected_cpt_codes, num_suggestions)"
   ]
  },
  {
   "cell_type": "code",
   "execution_count": 18,
   "id": "7b2ce495",
   "metadata": {},
   "outputs": [],
   "source": [
    "# Example usage\n",
    "selected_cpt_codes = ['99912','99916','99982']\n",
    "if not is_valid_cpt(selected_cpt_codes):\n",
    "    print(\"Invalid CPT code(s) entered. CPT codes should be in the range of 92100 to 92200.\")\n",
    "else:\n",
    "    num_suggestions = 3\n",
    "    suggested_cpts, suggested_cpt_occurrences = suggest_next_cpt(selected_cpt_codes, num_suggestions)"
   ]
  },
  {
   "cell_type": "code",
   "execution_count": 19,
   "id": "a39c5862",
   "metadata": {},
   "outputs": [
    {
     "name": "stdout",
     "output_type": "stream",
     "text": [
      "The most co-occurring next CPT codes for ['99912', '99916', '99982'] are:\n",
      "Suggestion 1: CPT 99960 (Occurrences: 10)\n",
      "Suggestion 2: CPT 99930 (Occurrences: 10)\n",
      "Suggestion 3: CPT 99929 (Occurrences: 10)\n"
     ]
    }
   ],
   "source": [
    "# Displaying the results\n",
    "print(f\"The most co-occurring next CPT codes for {selected_cpt_codes} are:\")\n",
    "for i, (cpt, occurrences) in enumerate(zip(suggested_cpts, suggested_cpt_occurrences), 1):\n",
    "    print(f\"Suggestion {i}: CPT {cpt} (Occurrences: {occurrences})\")"
   ]
  },
  {
   "cell_type": "code",
   "execution_count": 21,
   "id": "bd6eb687",
   "metadata": {},
   "outputs": [
    {
     "name": "stdout",
     "output_type": "stream",
     "text": [
      "Number of rows containing CPT codes 99912, 99916, 99982, 99960: 10\n"
     ]
    }
   ],
   "source": [
    "#Verifying above result\n",
    "\n",
    "filename = 'claims_synthetic_dataset(200000try).csv'\n",
    "\n",
    "cpt_codes = ['99912','99916','99982','99960']\n",
    "\n",
    "matching_row_count = 0\n",
    "\n",
    "with open(filename, 'r') as file:\n",
    "    reader = csv.DictReader(file)\n",
    "    for row in reader:\n",
    "        if all(cpt_code in row.values() for cpt_code in cpt_codes):\n",
    "            matching_row_count += 1\n",
    "\n",
    "print(f\"Number of rows containing CPT codes {', '.join(cpt_codes)}: {matching_row_count}\")"
   ]
  }
 ],
 "metadata": {
  "kernelspec": {
   "display_name": "Python 3 (ipykernel)",
   "language": "python",
   "name": "python3"
  },
  "language_info": {
   "codemirror_mode": {
    "name": "ipython",
    "version": 3
   },
   "file_extension": ".py",
   "mimetype": "text/x-python",
   "name": "python",
   "nbconvert_exporter": "python",
   "pygments_lexer": "ipython3",
   "version": "3.9.13"
  }
 },
 "nbformat": 4,
 "nbformat_minor": 5
}
