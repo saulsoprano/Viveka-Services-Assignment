{
 "cells": [
  {
   "cell_type": "code",
   "execution_count": 12,
   "id": "8d33d1d5",
   "metadata": {},
   "outputs": [
    {
     "name": "stdout",
     "output_type": "stream",
     "text": [
      "Dataset with 100000 claims and 6 unique CPT codes per claim saved to claims_synthetic_dataset(100000).csv successfully!\n"
     ]
    }
   ],
   "source": [
    "import csv\n",
    "import random\n",
    "\n",
    "#Number of Claims and number of CPT codes for each claim\n",
    "num_claims = 100000\n",
    "num_cpt_codes = 6\n",
    "filename = 'claims_synthetic_dataset(100000).csv'\n",
    "\n",
    "#Generating random CPT codes for each claim\n",
    "data = []\n",
    "for i in range(num_claims):\n",
    "    claim_cpt_codes = set()\n",
    "    while len(claim_cpt_codes) < num_cpt_codes:\n",
    "        cpt_code = f'{random.randint(80000, 99999):05d}'\n",
    "        claim_cpt_codes.add(cpt_code)\n",
    "    claim_data = {'Claim': f'Claim {i+1}'}\n",
    "    for j, cpt_code in enumerate(claim_cpt_codes):\n",
    "        claim_data[f'CPT Code {j+1}'] = cpt_code\n",
    "    data.append(claim_data)\n",
    "\n",
    "# Writing data to CSV file\n",
    "with open(filename, 'w', newline='') as file:\n",
    "    writer = csv.DictWriter(file, fieldnames=['Claim'] + [f'CPT Code {j+1}' for j in range(num_cpt_codes)])\n",
    "    writer.writeheader()\n",
    "    writer.writerows(data)\n",
    "\n",
    "print(f\"Dataset with {num_claims} claims and {num_cpt_codes} unique CPT codes per claim saved to {filename} successfully!\")"
   ]
  },
  {
   "cell_type": "code",
   "execution_count": 2,
   "id": "276eabe6",
   "metadata": {},
   "outputs": [],
   "source": [
    "#Making sure no claim has similar CPT codes\n",
    "import pandas as pd\n",
    "\n",
    "df = pd.read_csv('claims_synthetic_dataset(100000).csv')\n",
    "\n",
    "cpt_code_columns = ['CPT Code 1', 'CPT Code 2', 'CPT Code 3', 'CPT Code 4', 'CPT Code 5', 'CPT Code 6']\n",
    "df[cpt_code_columns] = df[cpt_code_columns].astype(str)\n",
    "\n",
    "for index, row in df.iterrows():\n",
    "    cpt_codes = row[cpt_code_columns]\n",
    "    duplicates = cpt_codes.duplicated()\n",
    "    if duplicates.any():\n",
    "        duplicate_values = cpt_codes[duplicates].unique()\n",
    "        print(f\"Duplicate CPT code(s) found in row {index + 1}: {', '.join(duplicate_values)}\")"
   ]
  },
  {
   "cell_type": "code",
   "execution_count": 16,
   "id": "ae6aa7e1",
   "metadata": {},
   "outputs": [
    {
     "name": "stdout",
     "output_type": "stream",
     "text": [
      "Dataset with 1000000 claims and 10 unique CPT codes per claim saved to claims_synthetic_dataset(1_million).csv successfully!\n"
     ]
    }
   ],
   "source": [
    "import csv\n",
    "import random\n",
    "\n",
    "#Number of Claims and CPT codes for each claim\n",
    "num_claims = 1000000\n",
    "num_cpt_codes = 10  \n",
    "filename = 'claims_synthetic_dataset(1_million).csv'\n",
    "\n",
    "# Generating random CPT codes for each claim\n",
    "data = []\n",
    "for i in range(num_claims):\n",
    "    claim_cpt_codes = set()\n",
    "    while len(claim_cpt_codes) < num_cpt_codes:\n",
    "        cpt_code = f'{random.randint(10000, 99999):05d}'\n",
    "        claim_cpt_codes.add(cpt_code)\n",
    "    claim_data = {'Claim': f'Claim {i+1}'}\n",
    "    for j, cpt_code in enumerate(claim_cpt_codes):\n",
    "        claim_data[f'CPT Code {j+1}'] = cpt_code\n",
    "    data.append(claim_data)\n",
    "\n",
    "# Writing data to CSV file\n",
    "with open(filename, 'w', newline='') as file:\n",
    "    writer = csv.DictWriter(file, fieldnames=['Claim'] + [f'CPT Code {j+1}' for j in range(num_cpt_codes)])\n",
    "    writer.writeheader()\n",
    "    writer.writerows(data)\n",
    "\n",
    "print(f\"Dataset with {num_claims} claims and {num_cpt_codes} unique CPT codes per claim saved to {filename} successfully!\")\n"
   ]
  },
  {
   "cell_type": "code",
   "execution_count": 19,
   "id": "9c05870a",
   "metadata": {},
   "outputs": [],
   "source": [
    "#Making sure no claim has similar CPT codes\n",
    "import pandas as pd\n",
    "\n",
    "df = pd.read_csv('claims_synthetic_dataset(1_million).csv')\n",
    "\n",
    "cpt_code_columns = ['CPT Code 1', 'CPT Code 2', 'CPT Code 3', 'CPT Code 4', 'CPT Code 5', 'CPT Code 6', 'CPT Code 7', 'CPT Code 8', 'CPT Code 9', 'CPT Code 10']\n",
    "df[cpt_code_columns] = df[cpt_code_columns].astype(str)\n",
    "\n",
    "for index, row in df.iterrows():\n",
    "    cpt_codes = row[cpt_code_columns]\n",
    "    duplicates = cpt_codes.duplicated()\n",
    "    if duplicates.any():\n",
    "        duplicate_values = cpt_codes[duplicates].unique()\n",
    "        print(f\"Duplicate CPT code(s) found in row {index + 1}: {', '.join(duplicate_values)}\")\n"
   ]
  },
  {
   "cell_type": "code",
   "execution_count": null,
   "id": "56922420",
   "metadata": {},
   "outputs": [],
   "source": []
  }
 ],
 "metadata": {
  "kernelspec": {
   "display_name": "Python 3 (ipykernel)",
   "language": "python",
   "name": "python3"
  },
  "language_info": {
   "codemirror_mode": {
    "name": "ipython",
    "version": 3
   },
   "file_extension": ".py",
   "mimetype": "text/x-python",
   "name": "python",
   "nbconvert_exporter": "python",
   "pygments_lexer": "ipython3",
   "version": "3.9.13"
  }
 },
 "nbformat": 4,
 "nbformat_minor": 5
}
