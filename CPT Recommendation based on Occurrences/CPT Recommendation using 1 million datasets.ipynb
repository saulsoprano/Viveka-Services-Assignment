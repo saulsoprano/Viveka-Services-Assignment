{
 "cells": [
  {
   "cell_type": "code",
   "execution_count": 1,
   "id": "653809d4",
   "metadata": {},
   "outputs": [],
   "source": [
    "import pandas as pd\n",
    "from collections import defaultdict\n",
    "import csv\n",
    "from itertools import combinations"
   ]
  },
  {
   "cell_type": "code",
   "execution_count": 2,
   "id": "f937e623",
   "metadata": {},
   "outputs": [],
   "source": [
    "# Loading the dataset\n",
    "df = pd.read_csv('claims_synthetic_dataset(1_million).csv')"
   ]
  },
  {
   "cell_type": "code",
   "execution_count": 3,
   "id": "72bf2294",
   "metadata": {},
   "outputs": [],
   "source": [
    "# Defining the number of CPT codes per claim\n",
    "num_cpt_codes = 10"
   ]
  },
  {
   "cell_type": "code",
   "execution_count": 4,
   "id": "a7cad63c",
   "metadata": {},
   "outputs": [],
   "source": [
    "# Function to find the most commonly occurring CPT code in the dataset\n",
    "def suggest_common_cpts(num_suggestions):\n",
    "    cpt_counts = defaultdict(int)\n",
    "    for _, row in df.iterrows():\n",
    "        cpt_codes = [str(row[f'CPT Code {i+1}']) for i in range(num_cpt_codes)]\n",
    "        for cpt in cpt_codes:\n",
    "            cpt_counts[cpt] += 1\n",
    "    \n",
    "    sorted_cpt_counts = sorted(cpt_counts.items(), key=lambda x: x[1], reverse=True)\n",
    "    suggested_cpts = [cpt for cpt, _ in sorted_cpt_counts[:num_suggestions]]\n",
    "    suggested_cpt_occurrences = [cpt_counts[cpt] for cpt in suggested_cpts]\n",
    "\n",
    "    return suggested_cpts, suggested_cpt_occurrences"
   ]
  },
  {
   "cell_type": "code",
   "execution_count": 5,
   "id": "e5834bf3",
   "metadata": {},
   "outputs": [],
   "source": [
    "# Suggesting the most commonly occurring CPT code in the dataset\n",
    "num_common_suggestions = 10\n",
    "common_cpts, common_cpt_occurrences = suggest_common_cpts(num_common_suggestions)"
   ]
  },
  {
   "cell_type": "code",
   "execution_count": 6,
   "id": "adbe7616",
   "metadata": {},
   "outputs": [
    {
     "name": "stdout",
     "output_type": "stream",
     "text": [
      "\n",
      "The most commonly occurring CPT codes in the dataset are:\n",
      "1: CPT 86288 (Occurrences: 156)\n",
      "2: CPT 20183 (Occurrences: 155)\n",
      "3: CPT 94137 (Occurrences: 154)\n",
      "4: CPT 68613 (Occurrences: 154)\n",
      "5: CPT 24615 (Occurrences: 154)\n",
      "6: CPT 29700 (Occurrences: 154)\n",
      "7: CPT 65659 (Occurrences: 154)\n",
      "8: CPT 30139 (Occurrences: 153)\n",
      "9: CPT 17210 (Occurrences: 153)\n",
      "10: CPT 65567 (Occurrences: 153)\n"
     ]
    }
   ],
   "source": [
    "# Displaying the results\n",
    "print(f\"\\nThe most commonly occurring CPT codes in the dataset are:\")\n",
    "for i, (cpt, occurrences) in enumerate(zip(common_cpts, common_cpt_occurrences), 1):\n",
    "    print(f\"{i}: CPT {cpt} (Occurrences: {occurrences})\")"
   ]
  },
  {
   "cell_type": "code",
   "execution_count": 7,
   "id": "00140c30",
   "metadata": {},
   "outputs": [],
   "source": [
    "# Function to find the most common CPT codes pair that co-occur within the same claim\n",
    "def find_common_cpt_pairs():\n",
    "    cpt_pairs = defaultdict(int)\n",
    "    for _, row in df.iterrows():\n",
    "        cpt_codes = [str(row[f'CPT Code {i+1}']) for i in range(num_cpt_codes)]\n",
    "        for i in range(num_cpt_codes):\n",
    "            for j in range(i+1, num_cpt_codes):\n",
    "                pair = (cpt_codes[i], cpt_codes[j])\n",
    "                cpt_pairs[pair] += 1\n",
    "\n",
    "    sorted_cpt_pairs = sorted(cpt_pairs.items(), key=lambda x: x[1], reverse=True)\n",
    "    most_common_pairs = sorted_cpt_pairs[:8]  \n",
    "    return most_common_pairs"
   ]
  },
  {
   "cell_type": "code",
   "execution_count": 8,
   "id": "e2391d92",
   "metadata": {},
   "outputs": [],
   "source": [
    "# Finding the most common CPT code pairs\n",
    "most_common_cpt_pairs = find_common_cpt_pairs()"
   ]
  },
  {
   "cell_type": "code",
   "execution_count": 9,
   "id": "381a2204",
   "metadata": {},
   "outputs": [
    {
     "name": "stdout",
     "output_type": "stream",
     "text": [
      "\n",
      "The most common CPT code pairs that occur within the same claim are:\n",
      "Pair 1: CPT 17695 and CPT 83895 (Occurrences: 4)\n",
      "Pair 2: CPT 21414 and CPT 70798 (Occurrences: 4)\n",
      "Pair 3: CPT 21191 and CPT 93161 (Occurrences: 3)\n",
      "Pair 4: CPT 46114 and CPT 94131 (Occurrences: 3)\n",
      "Pair 5: CPT 53434 and CPT 47100 (Occurrences: 3)\n",
      "Pair 6: CPT 90751 and CPT 16812 (Occurrences: 3)\n",
      "Pair 7: CPT 40722 and CPT 36043 (Occurrences: 3)\n",
      "Pair 8: CPT 55214 and CPT 30459 (Occurrences: 3)\n"
     ]
    }
   ],
   "source": [
    "# Displaying the results\n",
    "print(\"\\nThe most common CPT code pairs that occur within the same claim are:\")\n",
    "for i, ((cpt1, cpt2), occurrences) in enumerate(most_common_cpt_pairs, 1):\n",
    "    print(f\"Pair {i}: CPT {cpt1} and CPT {cpt2} (Occurrences: {occurrences})\")"
   ]
  },
  {
   "cell_type": "code",
   "execution_count": 10,
   "id": "9f38c2c2",
   "metadata": {},
   "outputs": [],
   "source": [
    "# Function to suggest multiple sets of three CPT codes that occur within the same claim\n",
    "def suggest_common_cooccurring_cpts(num_suggestions):\n",
    "    cpt_counts = defaultdict(int)\n",
    "    for _, row in df.iterrows():\n",
    "        cpt_codes = [str(row[f'CPT Code {i+1}']) for i in range(num_cpt_codes)]\n",
    "        for combo in combinations(cpt_codes, 3):\n",
    "            cpt_counts[combo] += 1\n",
    "    \n",
    "    sorted_cpt_counts = sorted(cpt_counts.items(), key=lambda x: x[1], reverse=True)\n",
    "    suggested_cpts = [cpt for cpt, _ in sorted_cpt_counts[:num_suggestions]]\n",
    "    suggested_cpt_occurrences = [cpt_counts[cpt] for cpt in suggested_cpts]\n",
    "\n",
    "    return suggested_cpts, suggested_cpt_occurrences"
   ]
  },
  {
   "cell_type": "code",
   "execution_count": 11,
   "id": "9980b57b",
   "metadata": {},
   "outputs": [],
   "source": [
    "# Suggesting multiple sets of three CPT codes that occur within the same claim\n",
    "num_common_suggestions = 5\n",
    "common_cpts, common_cpt_occurrences = suggest_common_cooccurring_cpts(num_common_suggestions)"
   ]
  },
  {
   "cell_type": "code",
   "execution_count": 12,
   "id": "7a403ae4",
   "metadata": {},
   "outputs": [
    {
     "name": "stdout",
     "output_type": "stream",
     "text": [
      "\n",
      "The most commonly co-occuring sets of three CPT codes are:\n",
      "Suggestion 1: CPT 53301, CPT 37342, CPT 65491 (Occurrences: 2)\n",
      "Suggestion 2: CPT 31774, CPT 16141, CPT 74400 (Occurrences: 2)\n",
      "Suggestion 3: CPT 78976, CPT 18055, CPT 27134 (Occurrences: 2)\n",
      "Suggestion 4: CPT 62823, CPT 13076, CPT 99700 (Occurrences: 2)\n",
      "Suggestion 5: CPT 10441, CPT 81839, CPT 87757 (Occurrences: 2)\n"
     ]
    }
   ],
   "source": [
    "# Displaying the results\n",
    "print(f\"\\nThe most commonly co-occuring sets of three CPT codes are:\")\n",
    "for i, (cpts, occurrences) in enumerate(zip(common_cpts, common_cpt_occurrences), 1):\n",
    "    cpt1, cpt2, cpt3 = cpts\n",
    "    print(f\"Suggestion {i}: CPT {cpt1}, CPT {cpt2}, CPT {cpt3} (Occurrences: {occurrences})\")"
   ]
  },
  {
   "cell_type": "code",
   "execution_count": 13,
   "id": "e8342982",
   "metadata": {},
   "outputs": [],
   "source": [
    "# Function to suggest the most co-occurring next CPT codes based on selected CPT codes\n",
    "def suggest_next_cpt(selected_cpt_codes, num_suggestions):\n",
    "    cooccurrence_row_counts = defaultdict(int) \n",
    "    \n",
    "    for _, row in df.iterrows():\n",
    "        row_cpt_codes = [str(row[f'CPT Code {i+1}']) for i in range(num_cpt_codes)]\n",
    "        if set(selected_cpt_codes).issubset(row_cpt_codes):\n",
    "            for cpt in row_cpt_codes:\n",
    "                if cpt not in selected_cpt_codes:\n",
    "                    cooccurrence_row_counts[cpt] += 1\n",
    "\n",
    "    sorted_next_cpts = sorted(cooccurrence_row_counts.items(), key=lambda x: x[1], reverse=True)\n",
    "    suggested_cpts = [cpt for cpt, _ in sorted_next_cpts[:num_suggestions]]\n",
    "    suggested_cpt_occurrences = [cooccurrence_row_counts[cpt] for cpt in suggested_cpts]\n",
    "\n",
    "    return suggested_cpts, suggested_cpt_occurrences"
   ]
  },
  {
   "cell_type": "code",
   "execution_count": 14,
   "id": "57158c1b",
   "metadata": {},
   "outputs": [],
   "source": [
    "# Function to check if the selected CPT codes are valid\n",
    "def is_valid_cpt(cpt_codes):\n",
    "    for cpt in cpt_codes:\n",
    "        if not (10000 <= int(cpt) <= 99999):\n",
    "            return False\n",
    "    return True"
   ]
  },
  {
   "cell_type": "code",
   "execution_count": 15,
   "id": "53ec4bbb",
   "metadata": {},
   "outputs": [],
   "source": [
    "# Example usage\n",
    "selected_cpt_codes = ['21414']\n",
    "if not is_valid_cpt(selected_cpt_codes):\n",
    "    print(\"Invalid CPT code(s) entered. CPT codes should be in the range of 10000 to 99999.\")\n",
    "else:\n",
    "    num_suggestions = 3\n",
    "    suggested_cpts, suggested_cpt_occurrences = suggest_next_cpt(selected_cpt_codes, num_suggestions)"
   ]
  },
  {
   "cell_type": "code",
   "execution_count": 16,
   "id": "333388d4",
   "metadata": {},
   "outputs": [
    {
     "name": "stdout",
     "output_type": "stream",
     "text": [
      "The most co-occurring next CPT codes for ['21414'] on the basis of co-occurrences are:\n",
      "Suggestion 1: CPT 70798 (Occurrences: 4)\n",
      "Suggestion 2: CPT 25890 (Occurrences: 2)\n",
      "Suggestion 3: CPT 11216 (Occurrences: 2)\n"
     ]
    }
   ],
   "source": [
    "# Displaying the results\n",
    "print(f\"The most co-occurring next CPT codes for {selected_cpt_codes} on the basis of co-occurrences are:\")\n",
    "for i, (cpt, occurrences) in enumerate(zip(suggested_cpts, suggested_cpt_occurrences), 1):\n",
    "    print(f\"Suggestion {i}: CPT {cpt} (Occurrences: {occurrences})\")\n"
   ]
  },
  {
   "cell_type": "code",
   "execution_count": 17,
   "id": "04e4af11",
   "metadata": {},
   "outputs": [
    {
     "name": "stdout",
     "output_type": "stream",
     "text": [
      "Number of rows containing both CPT codes 70798, 21414: 4\n"
     ]
    }
   ],
   "source": [
    "# Verifying above results\n",
    "cpt_codes = ['70798','21414']\n",
    "\n",
    "filename = 'claims_synthetic_dataset(1_million).csv'\n",
    "\n",
    "matching_row_count = 0\n",
    "\n",
    "with open(filename, 'r') as file:\n",
    "    reader = csv.DictReader(file)\n",
    "    for row in reader:\n",
    "        if all(cpt_code in row.values() for cpt_code in cpt_codes):\n",
    "            matching_row_count += 1\n",
    "\n",
    "print(f\"Number of rows containing both CPT codes {', '.join(cpt_codes)}: {matching_row_count}\")"
   ]
  },
  {
   "cell_type": "code",
   "execution_count": null,
   "id": "d6db9c9e",
   "metadata": {},
   "outputs": [],
   "source": []
  }
 ],
 "metadata": {
  "kernelspec": {
   "display_name": "Python 3 (ipykernel)",
   "language": "python",
   "name": "python3"
  },
  "language_info": {
   "codemirror_mode": {
    "name": "ipython",
    "version": 3
   },
   "file_extension": ".py",
   "mimetype": "text/x-python",
   "name": "python",
   "nbconvert_exporter": "python",
   "pygments_lexer": "ipython3",
   "version": "3.9.13"
  }
 },
 "nbformat": 4,
 "nbformat_minor": 5
}
