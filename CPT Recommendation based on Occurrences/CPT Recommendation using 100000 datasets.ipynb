{
 "cells": [
  {
   "cell_type": "code",
   "execution_count": 1,
   "id": "80f1eb1e",
   "metadata": {},
   "outputs": [],
   "source": [
    "import pandas as pd\n",
    "from collections import defaultdict\n",
    "import csv\n",
    "from itertools import combinations"
   ]
  },
  {
   "cell_type": "code",
   "execution_count": 2,
   "id": "f2637768",
   "metadata": {},
   "outputs": [],
   "source": [
    "# Loading the dataset\n",
    "df = pd.read_csv('claims_synthetic_dataset(100000).csv')"
   ]
  },
  {
   "cell_type": "code",
   "execution_count": 3,
   "id": "d6472ab5",
   "metadata": {},
   "outputs": [],
   "source": [
    "# Defining the number of CPT codes per claim\n",
    "num_cpt_codes = 6"
   ]
  },
  {
   "cell_type": "code",
   "execution_count": 4,
   "id": "74632263",
   "metadata": {},
   "outputs": [],
   "source": [
    "# Function to suggest the most commonly occurring CPT codes in the dataset\n",
    "def suggest_common_cpts(num_suggestions):\n",
    "    cpt_counts = defaultdict(int)\n",
    "    for _, row in df.iterrows():\n",
    "        cpt_codes = [str(row[f'CPT Code {i+1}']) for i in range(num_cpt_codes)]\n",
    "        for cpt in cpt_codes:\n",
    "            cpt_counts[cpt] += 1\n",
    "    \n",
    "    sorted_cpt_counts = sorted(cpt_counts.items(), key=lambda x: x[1], reverse=True)\n",
    "    suggested_cpts = [cpt for cpt, _ in sorted_cpt_counts[:num_suggestions]]\n",
    "    suggested_cpt_occurrences = [cpt_counts[cpt] for cpt in suggested_cpts]\n",
    "\n",
    "    return suggested_cpts, suggested_cpt_occurrences"
   ]
  },
  {
   "cell_type": "code",
   "execution_count": 5,
   "id": "840766db",
   "metadata": {},
   "outputs": [],
   "source": [
    "# Suggesting the most commonly occurring CPT codes in the dataset\n",
    "num_common_suggestions = 10\n",
    "common_cpts, common_cpt_occurrences = suggest_common_cpts(num_common_suggestions)"
   ]
  },
  {
   "cell_type": "code",
   "execution_count": 6,
   "id": "1fe4c148",
   "metadata": {},
   "outputs": [
    {
     "name": "stdout",
     "output_type": "stream",
     "text": [
      "\n",
      "The most commonly occurring CPT codes in the dataset are:\n",
      " 1: CPT 89579 (Occurrences: 53)\n",
      " 2: CPT 80386 (Occurrences: 53)\n",
      " 3: CPT 95564 (Occurrences: 53)\n",
      " 4: CPT 84314 (Occurrences: 51)\n",
      " 5: CPT 84179 (Occurrences: 51)\n",
      " 6: CPT 83860 (Occurrences: 50)\n",
      " 7: CPT 88551 (Occurrences: 50)\n",
      " 8: CPT 93402 (Occurrences: 50)\n",
      " 9: CPT 84140 (Occurrences: 49)\n",
      " 10: CPT 99565 (Occurrences: 49)\n"
     ]
    }
   ],
   "source": [
    "# Displaying the results\n",
    "print(f\"\\nThe most commonly occurring CPT codes in the dataset are:\")\n",
    "for i, (cpt, occurrences) in enumerate(zip(common_cpts, common_cpt_occurrences), 1):\n",
    "    print(f\" {i}: CPT {cpt} (Occurrences: {occurrences})\")"
   ]
  },
  {
   "cell_type": "code",
   "execution_count": 7,
   "id": "a93243ae",
   "metadata": {},
   "outputs": [],
   "source": [
    "# Function to find the most common CPT codes that occur within the same claim\n",
    "def find_common_cpt_pairs():\n",
    "    cpt_pairs = defaultdict(int)\n",
    "    for _, row in df.iterrows():\n",
    "        cpt_codes = [str(row[f'CPT Code {i+1}']) for i in range(num_cpt_codes)]\n",
    "        for i in range(num_cpt_codes):\n",
    "            for j in range(i+1, num_cpt_codes):\n",
    "                pair = (cpt_codes[i], cpt_codes[j])\n",
    "                cpt_pairs[pair] += 1\n",
    "\n",
    "    sorted_cpt_pairs = sorted(cpt_pairs.items(), key=lambda x: x[1], reverse=True)\n",
    "    most_common_pairs = sorted_cpt_pairs[:8]  \n",
    "    return most_common_pairs"
   ]
  },
  {
   "cell_type": "code",
   "execution_count": 8,
   "id": "6fe55d68",
   "metadata": {},
   "outputs": [],
   "source": [
    "# Finding the most common CPT code pairs\n",
    "most_common_cpt_pairs = find_common_cpt_pairs()"
   ]
  },
  {
   "cell_type": "code",
   "execution_count": 9,
   "id": "e24619bb",
   "metadata": {},
   "outputs": [
    {
     "name": "stdout",
     "output_type": "stream",
     "text": [
      "\n",
      "The most common CPT code pairs that occur within the same claim are:\n",
      "Pair 1: CPT 85245 and CPT 95540 (Occurrences: 3)\n",
      "Pair 2: CPT 81147 and CPT 85769 (Occurrences: 3)\n",
      "Pair 3: CPT 85528 and CPT 90108 (Occurrences: 3)\n",
      "Pair 4: CPT 86050 and CPT 92352 (Occurrences: 3)\n",
      "Pair 5: CPT 95207 and CPT 92888 (Occurrences: 3)\n",
      "Pair 6: CPT 91786 and CPT 90964 (Occurrences: 3)\n",
      "Pair 7: CPT 87474 and CPT 96773 (Occurrences: 3)\n",
      "Pair 8: CPT 97548 and CPT 85559 (Occurrences: 3)\n"
     ]
    }
   ],
   "source": [
    "# Displaying the results\n",
    "print(\"\\nThe most common CPT code pairs that occur within the same claim are:\")\n",
    "for i, ((cpt1, cpt2), occurrences) in enumerate(most_common_cpt_pairs, 1):\n",
    "    print(f\"Pair {i}: CPT {cpt1} and CPT {cpt2} (Occurrences: {occurrences})\")"
   ]
  },
  {
   "cell_type": "code",
   "execution_count": 10,
   "id": "ce2f48fa",
   "metadata": {},
   "outputs": [],
   "source": [
    "# Function to suggest multiple sets of three CPT codes that occur within the same claim\n",
    "def suggest_common_cooccurring_cpts(num_suggestions):\n",
    "    cpt_counts = defaultdict(int)\n",
    "    for _, row in df.iterrows():\n",
    "        cpt_codes = [str(row[f'CPT Code {i+1}']) for i in range(num_cpt_codes)]\n",
    "        for combo in combinations(cpt_codes, 3):\n",
    "            cpt_counts[combo] += 1\n",
    "    \n",
    "    sorted_cpt_counts = sorted(cpt_counts.items(), key=lambda x: x[1], reverse=True)\n",
    "    suggested_cpts = [cpt for cpt, _ in sorted_cpt_counts[:num_suggestions]]\n",
    "    suggested_cpt_occurrences = [cpt_counts[cpt] for cpt in suggested_cpts]\n",
    "\n",
    "    return suggested_cpts, suggested_cpt_occurrences"
   ]
  },
  {
   "cell_type": "code",
   "execution_count": 11,
   "id": "4114df7c",
   "metadata": {},
   "outputs": [],
   "source": [
    "# Suggesting multiple sets of three CPT codes that occur in the same row\n",
    "num_common_suggestions = 5\n",
    "common_cpts, common_cpt_occurrences = suggest_common_cooccurring_cpts(num_common_suggestions)"
   ]
  },
  {
   "cell_type": "code",
   "execution_count": 12,
   "id": "a828bd0c",
   "metadata": {},
   "outputs": [
    {
     "name": "stdout",
     "output_type": "stream",
     "text": [
      "\n",
      "The most commonly co-occuring sets of three CPT codes are:\n",
      "Suggestion 1: CPT 81147, CPT 84903, CPT 85769 (Occurrences: 2)\n",
      "Suggestion 2: CPT 83527, CPT 94503, CPT 81097 (Occurrences: 1)\n",
      "Suggestion 3: CPT 83527, CPT 94503, CPT 82987 (Occurrences: 1)\n",
      "Suggestion 4: CPT 83527, CPT 94503, CPT 92384 (Occurrences: 1)\n",
      "Suggestion 5: CPT 83527, CPT 94503, CPT 94392 (Occurrences: 1)\n"
     ]
    }
   ],
   "source": [
    "# Displaying the results\n",
    "print(f\"\\nThe most commonly co-occuring sets of three CPT codes are:\")\n",
    "for i, (cpts, occurrences) in enumerate(zip(common_cpts, common_cpt_occurrences), 1):\n",
    "    cpt1, cpt2, cpt3 = cpts\n",
    "    print(f\"Suggestion {i}: CPT {cpt1}, CPT {cpt2}, CPT {cpt3} (Occurrences: {occurrences})\")"
   ]
  },
  {
   "cell_type": "code",
   "execution_count": 13,
   "id": "87309d86",
   "metadata": {},
   "outputs": [],
   "source": [
    "# Function to suggest the most co-occurring next CPT codes based on selected CPT codes\n",
    "def suggest_next_cpt(selected_cpt_codes, num_suggestions):\n",
    "    cooccurrence_row_counts = defaultdict(int) \n",
    "\n",
    "    for _, row in df.iterrows():\n",
    "        row_cpt_codes = [str(row[f'CPT Code {i+1}']) for i in range(num_cpt_codes)]\n",
    "        if set(selected_cpt_codes).issubset(row_cpt_codes):\n",
    "            for cpt in row_cpt_codes:\n",
    "                if cpt not in selected_cpt_codes:\n",
    "                    cooccurrence_row_counts[cpt] += 1\n",
    "\n",
    "    sorted_next_cpts = sorted(cooccurrence_row_counts.items(), key=lambda x: x[1], reverse=True)\n",
    "    suggested_cpts = [cpt for cpt, _ in sorted_next_cpts[:num_suggestions]]\n",
    "    suggested_cpt_occurrences = [cooccurrence_row_counts[cpt] for cpt in suggested_cpts]\n",
    "\n",
    "    return suggested_cpts, suggested_cpt_occurrences"
   ]
  },
  {
   "cell_type": "code",
   "execution_count": 14,
   "id": "5145142c",
   "metadata": {},
   "outputs": [],
   "source": [
    "# Function to check if the selected CPT codes are valid\n",
    "def is_valid_cpt(cpt_codes):\n",
    "    for cpt in cpt_codes:\n",
    "        if not (80000 <= int(cpt) <= 99999):\n",
    "            return False\n",
    "    return True"
   ]
  },
  {
   "cell_type": "code",
   "execution_count": 15,
   "id": "78ce7271",
   "metadata": {},
   "outputs": [],
   "source": [
    "# Example usage\n",
    "selected_cpt_codes = ['81147','84903']\n",
    "if not is_valid_cpt(selected_cpt_codes):\n",
    "    print(\"Invalid CPT code(s) entered. CPT codes should be in the range of 80000 to 99999.\")\n",
    "else:\n",
    "    num_suggestions = 3\n",
    "    suggested_cpts, suggested_cpt_occurrences = suggest_next_cpt(selected_cpt_codes, num_suggestions)"
   ]
  },
  {
   "cell_type": "code",
   "execution_count": 16,
   "id": "e76e56d5",
   "metadata": {},
   "outputs": [
    {
     "name": "stdout",
     "output_type": "stream",
     "text": [
      "The most co-occurring next CPT codes for ['81147', '84903'] on the basis of cooccurrences are:\n",
      "Suggestion 1: CPT 85769 (Occurrences: 2)\n",
      "Suggestion 2: CPT 91607 (Occurrences: 1)\n",
      "Suggestion 3: CPT 88311 (Occurrences: 1)\n"
     ]
    }
   ],
   "source": [
    "# Displaying the results\n",
    "print(f\"The most co-occurring next CPT codes for {selected_cpt_codes} on the basis of cooccurrences are:\")\n",
    "for i, (cpt, occurrences) in enumerate(zip(suggested_cpts, suggested_cpt_occurrences), 1):\n",
    "    print(f\"Suggestion {i}: CPT {cpt} (Occurrences: {occurrences})\")"
   ]
  },
  {
   "cell_type": "code",
   "execution_count": 17,
   "id": "bd6eb687",
   "metadata": {},
   "outputs": [
    {
     "name": "stdout",
     "output_type": "stream",
     "text": [
      "Number of rows containing CPT codes 81147, 84903, 88311: 1\n"
     ]
    }
   ],
   "source": [
    "#Verifying the above results\n",
    "import csv\n",
    "\n",
    "filename ='claims_synthetic_dataset(100000).csv'\n",
    "\n",
    "cpt_codes = ['81147','84903','88311']\n",
    "\n",
    "\n",
    "matching_row_count = 0\n",
    "\n",
    "with open(filename, 'r') as file:\n",
    "    reader = csv.DictReader(file)\n",
    "    for row in reader:\n",
    "        if all(cpt_code in row.values() for cpt_code in cpt_codes):\n",
    "            matching_row_count += 1\n",
    "\n",
    "print(f\"Number of rows containing CPT codes {', '.join(cpt_codes)}: {matching_row_count}\")"
   ]
  }
 ],
 "metadata": {
  "kernelspec": {
   "display_name": "Python 3 (ipykernel)",
   "language": "python",
   "name": "python3"
  },
  "language_info": {
   "codemirror_mode": {
    "name": "ipython",
    "version": 3
   },
   "file_extension": ".py",
   "mimetype": "text/x-python",
   "name": "python",
   "nbconvert_exporter": "python",
   "pygments_lexer": "ipython3",
   "version": "3.9.13"
  }
 },
 "nbformat": 4,
 "nbformat_minor": 5
}
