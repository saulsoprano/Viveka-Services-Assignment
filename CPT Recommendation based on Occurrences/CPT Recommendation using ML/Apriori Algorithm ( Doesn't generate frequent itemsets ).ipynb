{
 "cells": [
  {
   "cell_type": "code",
   "execution_count": 1,
   "id": "f0b0e5e2",
   "metadata": {},
   "outputs": [],
   "source": [
    "import pandas as pd\n",
    "from mlxtend.frequent_patterns import apriori\n",
    "from mlxtend.frequent_patterns import association_rules\n",
    "from mlxtend.preprocessing import TransactionEncoder"
   ]
  },
  {
   "cell_type": "code",
   "execution_count": 2,
   "id": "8bb1a178",
   "metadata": {},
   "outputs": [],
   "source": [
    "# Step 1: Reading the dataset from the CSV file\n",
    "data = pd.read_csv('claims_synthetic_dataset(200000try).csv')"
   ]
  },
  {
   "cell_type": "code",
   "execution_count": 3,
   "id": "f0cd7964",
   "metadata": {},
   "outputs": [],
   "source": [
    "# Step 2: Converting the dataset into a list of transactions\n",
    "transactions = []\n",
    "for _, row in data.iterrows():\n",
    "    cpt_codes = row[1:].tolist() \n",
    "    transactions.append([str(cpt_code) for cpt_code in cpt_codes if not pd.isnull(cpt_code)])"
   ]
  },
  {
   "cell_type": "code",
   "execution_count": 4,
   "id": "b4735d89",
   "metadata": {},
   "outputs": [],
   "source": [
    "# Step 3: Transforming the data into a one-hot encoded format suitable for the Apriori algorithm\n",
    "te = TransactionEncoder()\n",
    "one_hot_data = te.fit(transactions).transform(transactions)"
   ]
  },
  {
   "cell_type": "code",
   "execution_count": 5,
   "id": "74bc9998",
   "metadata": {},
   "outputs": [],
   "source": [
    "# Step 4: Converting the one-hot encoded data into a pandas DataFrame\n",
    "df = pd.DataFrame(one_hot_data, columns=te.columns_)"
   ]
  },
  {
   "cell_type": "code",
   "execution_count": 6,
   "id": "951c750e",
   "metadata": {},
   "outputs": [
    {
     "name": "stdout",
     "output_type": "stream",
     "text": [
      "        99900  99901  99902  99903  99904  99905  99906  99907  99908  99909  \\\n",
      "0       False  False  False  False  False  False  False   True  False  False   \n",
      "1       False  False  False  False  False  False  False  False   True  False   \n",
      "2       False  False  False  False  False  False  False  False  False  False   \n",
      "3       False  False  False  False  False  False  False  False  False  False   \n",
      "4       False  False  False  False  False  False  False  False   True  False   \n",
      "...       ...    ...    ...    ...    ...    ...    ...    ...    ...    ...   \n",
      "199995  False  False  False  False  False  False  False  False  False  False   \n",
      "199996  False  False  False   True  False  False  False  False  False  False   \n",
      "199997  False  False  False  False  False   True  False  False  False   True   \n",
      "199998  False  False  False  False  False   True  False  False  False  False   \n",
      "199999  False  False  False  False  False  False  False  False  False  False   \n",
      "\n",
      "        ...  99990  99991  99992  99993  99994  99995  99996  99997  99998  \\\n",
      "0       ...  False  False  False  False  False  False  False  False  False   \n",
      "1       ...  False  False  False  False  False   True  False  False  False   \n",
      "2       ...  False   True  False  False   True  False  False  False  False   \n",
      "3       ...  False  False  False  False  False  False  False  False  False   \n",
      "4       ...  False  False  False  False  False  False  False   True  False   \n",
      "...     ...    ...    ...    ...    ...    ...    ...    ...    ...    ...   \n",
      "199995  ...  False  False  False  False  False  False  False  False  False   \n",
      "199996  ...  False  False  False  False  False  False  False   True  False   \n",
      "199997  ...   True  False  False  False  False  False  False  False  False   \n",
      "199998  ...  False   True  False  False  False  False  False  False  False   \n",
      "199999  ...  False  False  False  False  False  False  False  False  False   \n",
      "\n",
      "        99999  \n",
      "0        True  \n",
      "1       False  \n",
      "2       False  \n",
      "3        True  \n",
      "4       False  \n",
      "...       ...  \n",
      "199995  False  \n",
      "199996  False  \n",
      "199997  False  \n",
      "199998  False  \n",
      "199999  False  \n",
      "\n",
      "[200000 rows x 100 columns]\n"
     ]
    }
   ],
   "source": [
    "print(df)"
   ]
  },
  {
   "cell_type": "code",
   "execution_count": 8,
   "id": "3df73808",
   "metadata": {},
   "outputs": [],
   "source": [
    "# Step 5: Applying the Apriori algorithm to find frequent itemsets\n",
    "frequent_itemsets = apriori(df, min_support=0.01, use_colnames=True)"
   ]
  },
  {
   "cell_type": "code",
   "execution_count": 9,
   "id": "24d5fc90",
   "metadata": {},
   "outputs": [],
   "source": [
    "# Step 6: Generating association rules from the frequent itemsets\n",
    "rules = association_rules(frequent_itemsets, metric='confidence', min_threshold=0.01)"
   ]
  },
  {
   "cell_type": "code",
   "execution_count": 10,
   "id": "b0651ada",
   "metadata": {},
   "outputs": [],
   "source": [
    "# Step 7: Sorting the association rules by confidence in descending order\n",
    "rules = rules.sort_values(by='confidence', ascending=False)"
   ]
  },
  {
   "cell_type": "code",
   "execution_count": 11,
   "id": "dcebfb04",
   "metadata": {},
   "outputs": [],
   "source": [
    "def get_suggested_procedures(selected_cpt_codes, rules, num_suggestions):\n",
    "    # Filter the association rules to include only the selected CPT codes in the antecedents\n",
    "    filtered_rules = rules[rules['antecedents'].apply(lambda x: set(selected_cpt_codes).issubset(set(x)))]\n",
    "\n",
    "    # Sort the filtered rules by support in descending order\n",
    "    filtered_rules = filtered_rules.sort_values(by='support', ascending=False)\n",
    "\n",
    "    # Retrieve the top N suggested procedures from the consequents\n",
    "    suggested_procedures = filtered_rules['consequents'].head(num_suggestions).values.tolist()\n",
    "\n",
    "    return suggested_procedures\n"
   ]
  },
  {
   "cell_type": "code",
   "execution_count": 12,
   "id": "65ad1870",
   "metadata": {},
   "outputs": [
    {
     "name": "stdout",
     "output_type": "stream",
     "text": [
      "Empty DataFrame\n",
      "Columns: [antecedents, consequents, antecedent support, consequent support, support, confidence, lift, leverage, conviction, zhangs_metric]\n",
      "Index: []\n",
      "Index(['antecedents', 'consequents', 'antecedent support',\n",
      "       'consequent support', 'support', 'confidence', 'lift', 'leverage',\n",
      "       'conviction', 'zhangs_metric'],\n",
      "      dtype='object')\n"
     ]
    }
   ],
   "source": [
    "print(rules.head())\n",
    "print(rules.columns)"
   ]
  },
  {
   "cell_type": "code",
   "execution_count": 13,
   "id": "dcb79c16",
   "metadata": {},
   "outputs": [
    {
     "ename": "KeyError",
     "evalue": "'support'",
     "output_type": "error",
     "traceback": [
      "\u001b[1;31m---------------------------------------------------------------------------\u001b[0m",
      "\u001b[1;31mKeyError\u001b[0m                                  Traceback (most recent call last)",
      "\u001b[1;32m~\\AppData\\Local\\Temp\\ipykernel_13376\\1775391670.py\u001b[0m in \u001b[0;36m<module>\u001b[1;34m\u001b[0m\n\u001b[0;32m      2\u001b[0m \u001b[0mselected_cpt_codes\u001b[0m \u001b[1;33m=\u001b[0m \u001b[1;33m[\u001b[0m\u001b[1;34m'99913'\u001b[0m\u001b[1;33m]\u001b[0m\u001b[1;33m\u001b[0m\u001b[1;33m\u001b[0m\u001b[0m\n\u001b[0;32m      3\u001b[0m \u001b[0mnum_suggestions\u001b[0m \u001b[1;33m=\u001b[0m \u001b[1;36m5\u001b[0m\u001b[1;33m\u001b[0m\u001b[1;33m\u001b[0m\u001b[0m\n\u001b[1;32m----> 4\u001b[1;33m \u001b[0msuggested_procedures\u001b[0m \u001b[1;33m=\u001b[0m \u001b[0mget_suggested_procedures\u001b[0m\u001b[1;33m(\u001b[0m\u001b[0mselected_cpt_codes\u001b[0m\u001b[1;33m,\u001b[0m \u001b[0mrules\u001b[0m\u001b[1;33m,\u001b[0m \u001b[0mnum_suggestions\u001b[0m\u001b[1;33m)\u001b[0m\u001b[1;33m\u001b[0m\u001b[1;33m\u001b[0m\u001b[0m\n\u001b[0m\u001b[0;32m      5\u001b[0m \u001b[0mprint\u001b[0m\u001b[1;33m(\u001b[0m\u001b[0msuggested_procedures\u001b[0m\u001b[1;33m)\u001b[0m\u001b[1;33m\u001b[0m\u001b[1;33m\u001b[0m\u001b[0m\n",
      "\u001b[1;32m~\\AppData\\Local\\Temp\\ipykernel_13376\\2539828779.py\u001b[0m in \u001b[0;36mget_suggested_procedures\u001b[1;34m(selected_cpt_codes, rules, num_suggestions)\u001b[0m\n\u001b[0;32m      4\u001b[0m \u001b[1;33m\u001b[0m\u001b[0m\n\u001b[0;32m      5\u001b[0m     \u001b[1;31m# Sort the filtered rules by support in descending order\u001b[0m\u001b[1;33m\u001b[0m\u001b[1;33m\u001b[0m\u001b[0m\n\u001b[1;32m----> 6\u001b[1;33m     \u001b[0mfiltered_rules\u001b[0m \u001b[1;33m=\u001b[0m \u001b[0mfiltered_rules\u001b[0m\u001b[1;33m.\u001b[0m\u001b[0msort_values\u001b[0m\u001b[1;33m(\u001b[0m\u001b[0mby\u001b[0m\u001b[1;33m=\u001b[0m\u001b[1;34m'support'\u001b[0m\u001b[1;33m,\u001b[0m \u001b[0mascending\u001b[0m\u001b[1;33m=\u001b[0m\u001b[1;32mFalse\u001b[0m\u001b[1;33m)\u001b[0m\u001b[1;33m\u001b[0m\u001b[1;33m\u001b[0m\u001b[0m\n\u001b[0m\u001b[0;32m      7\u001b[0m \u001b[1;33m\u001b[0m\u001b[0m\n\u001b[0;32m      8\u001b[0m     \u001b[1;31m# Retrieve the top N suggested procedures from the consequents\u001b[0m\u001b[1;33m\u001b[0m\u001b[1;33m\u001b[0m\u001b[0m\n",
      "\u001b[1;32m~\\anaconda3\\lib\\site-packages\\pandas\\util\\_decorators.py\u001b[0m in \u001b[0;36mwrapper\u001b[1;34m(*args, **kwargs)\u001b[0m\n\u001b[0;32m    309\u001b[0m                     \u001b[0mstacklevel\u001b[0m\u001b[1;33m=\u001b[0m\u001b[0mstacklevel\u001b[0m\u001b[1;33m,\u001b[0m\u001b[1;33m\u001b[0m\u001b[1;33m\u001b[0m\u001b[0m\n\u001b[0;32m    310\u001b[0m                 )\n\u001b[1;32m--> 311\u001b[1;33m             \u001b[1;32mreturn\u001b[0m \u001b[0mfunc\u001b[0m\u001b[1;33m(\u001b[0m\u001b[1;33m*\u001b[0m\u001b[0margs\u001b[0m\u001b[1;33m,\u001b[0m \u001b[1;33m**\u001b[0m\u001b[0mkwargs\u001b[0m\u001b[1;33m)\u001b[0m\u001b[1;33m\u001b[0m\u001b[1;33m\u001b[0m\u001b[0m\n\u001b[0m\u001b[0;32m    312\u001b[0m \u001b[1;33m\u001b[0m\u001b[0m\n\u001b[0;32m    313\u001b[0m         \u001b[1;32mreturn\u001b[0m \u001b[0mwrapper\u001b[0m\u001b[1;33m\u001b[0m\u001b[1;33m\u001b[0m\u001b[0m\n",
      "\u001b[1;32m~\\anaconda3\\lib\\site-packages\\pandas\\core\\frame.py\u001b[0m in \u001b[0;36msort_values\u001b[1;34m(self, by, axis, ascending, inplace, kind, na_position, ignore_index, key)\u001b[0m\n\u001b[0;32m   6320\u001b[0m \u001b[1;33m\u001b[0m\u001b[0m\n\u001b[0;32m   6321\u001b[0m             \u001b[0mby\u001b[0m \u001b[1;33m=\u001b[0m \u001b[0mby\u001b[0m\u001b[1;33m[\u001b[0m\u001b[1;36m0\u001b[0m\u001b[1;33m]\u001b[0m\u001b[1;33m\u001b[0m\u001b[1;33m\u001b[0m\u001b[0m\n\u001b[1;32m-> 6322\u001b[1;33m             \u001b[0mk\u001b[0m \u001b[1;33m=\u001b[0m \u001b[0mself\u001b[0m\u001b[1;33m.\u001b[0m\u001b[0m_get_label_or_level_values\u001b[0m\u001b[1;33m(\u001b[0m\u001b[0mby\u001b[0m\u001b[1;33m,\u001b[0m \u001b[0maxis\u001b[0m\u001b[1;33m=\u001b[0m\u001b[0maxis\u001b[0m\u001b[1;33m)\u001b[0m\u001b[1;33m\u001b[0m\u001b[1;33m\u001b[0m\u001b[0m\n\u001b[0m\u001b[0;32m   6323\u001b[0m \u001b[1;33m\u001b[0m\u001b[0m\n\u001b[0;32m   6324\u001b[0m             \u001b[1;31m# need to rewrap column in Series to apply key function\u001b[0m\u001b[1;33m\u001b[0m\u001b[1;33m\u001b[0m\u001b[0m\n",
      "\u001b[1;32m~\\anaconda3\\lib\\site-packages\\pandas\\core\\generic.py\u001b[0m in \u001b[0;36m_get_label_or_level_values\u001b[1;34m(self, key, axis)\u001b[0m\n\u001b[0;32m   1838\u001b[0m             \u001b[0mvalues\u001b[0m \u001b[1;33m=\u001b[0m \u001b[0mself\u001b[0m\u001b[1;33m.\u001b[0m\u001b[0maxes\u001b[0m\u001b[1;33m[\u001b[0m\u001b[0maxis\u001b[0m\u001b[1;33m]\u001b[0m\u001b[1;33m.\u001b[0m\u001b[0mget_level_values\u001b[0m\u001b[1;33m(\u001b[0m\u001b[0mkey\u001b[0m\u001b[1;33m)\u001b[0m\u001b[1;33m.\u001b[0m\u001b[0m_values\u001b[0m\u001b[1;33m\u001b[0m\u001b[1;33m\u001b[0m\u001b[0m\n\u001b[0;32m   1839\u001b[0m         \u001b[1;32melse\u001b[0m\u001b[1;33m:\u001b[0m\u001b[1;33m\u001b[0m\u001b[1;33m\u001b[0m\u001b[0m\n\u001b[1;32m-> 1840\u001b[1;33m             \u001b[1;32mraise\u001b[0m \u001b[0mKeyError\u001b[0m\u001b[1;33m(\u001b[0m\u001b[0mkey\u001b[0m\u001b[1;33m)\u001b[0m\u001b[1;33m\u001b[0m\u001b[1;33m\u001b[0m\u001b[0m\n\u001b[0m\u001b[0;32m   1841\u001b[0m \u001b[1;33m\u001b[0m\u001b[0m\n\u001b[0;32m   1842\u001b[0m         \u001b[1;31m# Check for duplicates\u001b[0m\u001b[1;33m\u001b[0m\u001b[1;33m\u001b[0m\u001b[0m\n",
      "\u001b[1;31mKeyError\u001b[0m: 'support'"
     ]
    }
   ],
   "source": [
    "# Example usage\n",
    "selected_cpt_codes = ['99913']\n",
    "num_suggestions = 5\n",
    "suggested_procedures = get_suggested_procedures(selected_cpt_codes, rules, num_suggestions)\n",
    "print(suggested_procedures)"
   ]
  },
  {
   "cell_type": "code",
   "execution_count": null,
   "id": "2077d96b",
   "metadata": {},
   "outputs": [],
   "source": []
  }
 ],
 "metadata": {
  "kernelspec": {
   "display_name": "Python 3 (ipykernel)",
   "language": "python",
   "name": "python3"
  },
  "language_info": {
   "codemirror_mode": {
    "name": "ipython",
    "version": 3
   },
   "file_extension": ".py",
   "mimetype": "text/x-python",
   "name": "python",
   "nbconvert_exporter": "python",
   "pygments_lexer": "ipython3",
   "version": "3.9.13"
  }
 },
 "nbformat": 4,
 "nbformat_minor": 5
}
