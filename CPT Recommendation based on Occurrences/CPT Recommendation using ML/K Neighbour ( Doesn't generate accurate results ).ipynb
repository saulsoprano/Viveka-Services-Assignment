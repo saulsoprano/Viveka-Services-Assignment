{
 "cells": [
  {
   "cell_type": "code",
   "execution_count": 31,
   "id": "93f5ffa5",
   "metadata": {},
   "outputs": [],
   "source": [
    "import pandas as pd\n",
    "from sklearn.preprocessing import MultiLabelBinarizer\n",
    "from sklearn.neighbors import NearestNeighbors"
   ]
  },
  {
   "cell_type": "code",
   "execution_count": 32,
   "id": "b9471414",
   "metadata": {},
   "outputs": [],
   "source": [
    "# Loading the dataset\n",
    "df = pd.read_csv('claims_synthetic_dataset(200000try).csv')"
   ]
  },
  {
   "cell_type": "code",
   "execution_count": 33,
   "id": "a56977bf",
   "metadata": {},
   "outputs": [],
   "source": [
    "# Preprocessing the data\n",
    "mlb = MultiLabelBinarizer()\n",
    "cpt_features = mlb.fit_transform(df.loc[:, df.columns.str.startswith('CPT Code')].astype(str).values)\n",
    "df_encoded = pd.DataFrame(cpt_features, columns=mlb.classes_)"
   ]
  },
  {
   "cell_type": "code",
   "execution_count": 34,
   "id": "dc6112e8",
   "metadata": {},
   "outputs": [],
   "source": [
    "# Function to suggest the most co-occurring next CPT codes based on selected CPT codes using k-nearest neighbors\n",
    "def suggest_next_cpt(selected_cpt_codes, num_suggestions):\n",
    "    selected_cpt_features = mlb.transform([selected_cpt_codes])\n",
    "\n",
    "    # Finding the most similar rows using k-nearest neighbors\n",
    "    n_neighbors = min(len(df), num_suggestions)\n",
    "    nn = NearestNeighbors(n_neighbors=n_neighbors, algorithm='brute').fit(df_encoded.values)\n",
    "    _, indices = nn.kneighbors(selected_cpt_features)\n",
    "\n",
    "    suggested_cpts = []\n",
    "    suggested_cpt_occurrences = []\n",
    "\n",
    "    # Counting the occurrences of next CPT codes in similar rows\n",
    "    cpt_counts = {}\n",
    "    for idx in indices[0]:\n",
    "        row = df_encoded.iloc[idx]\n",
    "        next_cpts = row[row == 1].index.tolist()\n",
    "        for cpt in next_cpts:\n",
    "            if cpt not in selected_cpt_codes:\n",
    "                if cpt not in cpt_counts:\n",
    "                    cpt_counts[cpt] = 1\n",
    "                else:\n",
    "                    cpt_counts[cpt] += 1\n",
    "\n",
    "    # Sorting the suggested CPT codes based on occurrence count\n",
    "    sorted_cpt_counts = sorted(cpt_counts.items(), key=lambda x: x[1], reverse=True)\n",
    "    for cpt, occurrences in sorted_cpt_counts[:num_suggestions]:\n",
    "        suggested_cpts.append(cpt)\n",
    "        suggested_cpt_occurrences.append(occurrences)\n",
    "\n",
    "    return suggested_cpts, suggested_cpt_occurrences"
   ]
  },
  {
   "cell_type": "code",
   "execution_count": 37,
   "id": "f6152f39",
   "metadata": {},
   "outputs": [],
   "source": [
    "# Example usage\n",
    "selected_cpt_codes = ['99910','99977','99947']\n",
    "num_suggestions = 5\n",
    "suggested_cpts, suggested_cpt_occurrences = suggest_next_cpt(selected_cpt_codes, num_suggestions)"
   ]
  },
  {
   "cell_type": "code",
   "execution_count": 38,
   "id": "888afba2",
   "metadata": {},
   "outputs": [
    {
     "name": "stdout",
     "output_type": "stream",
     "text": [
      "The most co-occurring next CPT codes for ['99910', '99977', '99947'] are:\n",
      "Suggestion 1: CPT 99960 (Occurrences: 2)\n",
      "Suggestion 2: CPT 99965 (Occurrences: 2)\n",
      "Suggestion 3: CPT 99914 (Occurrences: 2)\n",
      "Suggestion 4: CPT 99945 (Occurrences: 1)\n",
      "Suggestion 5: CPT 99953 (Occurrences: 1)\n"
     ]
    }
   ],
   "source": [
    "# Displaying the results\n",
    "print(f\"The most co-occurring next CPT codes for {selected_cpt_codes} are:\")\n",
    "for i, (cpt, occurrences) in enumerate(zip(suggested_cpts, suggested_cpt_occurrences), 1):\n",
    "    print(f\"Suggestion {i}: CPT {cpt} (Occurrences: {occurrences})\")"
   ]
  },
  {
   "cell_type": "code",
   "execution_count": null,
   "id": "61021602",
   "metadata": {},
   "outputs": [],
   "source": []
  }
 ],
 "metadata": {
  "kernelspec": {
   "display_name": "Python 3 (ipykernel)",
   "language": "python",
   "name": "python3"
  },
  "language_info": {
   "codemirror_mode": {
    "name": "ipython",
    "version": 3
   },
   "file_extension": ".py",
   "mimetype": "text/x-python",
   "name": "python",
   "nbconvert_exporter": "python",
   "pygments_lexer": "ipython3",
   "version": "3.9.13"
  }
 },
 "nbformat": 4,
 "nbformat_minor": 5
}
