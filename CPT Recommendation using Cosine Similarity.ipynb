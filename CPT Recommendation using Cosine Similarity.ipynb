{
 "cells": [
  {
   "cell_type": "code",
   "execution_count": 1,
   "id": "2cd30837",
   "metadata": {},
   "outputs": [],
   "source": [
    "import pandas as pd"
   ]
  },
  {
   "cell_type": "code",
   "execution_count": 2,
   "id": "0d9117e6",
   "metadata": {},
   "outputs": [],
   "source": [
    "df = pd.read_excel('cptupdated.xlsx')"
   ]
  },
  {
   "cell_type": "code",
   "execution_count": 3,
   "id": "d574ffef",
   "metadata": {},
   "outputs": [
    {
     "name": "stdout",
     "output_type": "stream",
     "text": [
      "Column Names:\n",
      "Procedure Code Category\n",
      "CPT Codes\n",
      "Procedure Code Descriptions\n",
      "Code Status\n"
     ]
    }
   ],
   "source": [
    "# Viewing column names\n",
    "column_names = df.columns\n",
    "print(\"Column Names:\")\n",
    "for column in column_names:\n",
    "    print(column)"
   ]
  },
  {
   "cell_type": "code",
   "execution_count": 4,
   "id": "74039b61",
   "metadata": {},
   "outputs": [
    {
     "name": "stdout",
     "output_type": "stream",
     "text": [
      "\n",
      "Data in 'CPT Codes' column:\n",
      "0       34830\n",
      "1       34831\n",
      "2       34832\n",
      "3       35081\n",
      "4       35082\n",
      "        ...  \n",
      "1163    49426\n",
      "1164    49900\n",
      "1165    49905\n",
      "1166    49906\n",
      "1167    58960\n",
      "Name: CPT Codes, Length: 1168, dtype: object\n",
      "\n",
      "Data in 'Procedure Code Descriptions' column:\n",
      "0       Open repair of infrarenal aortic aneurysm or d...\n",
      "1       Open repair of infrarenal aortic aneurysm or d...\n",
      "2       Open repair of infrarenal aortic aneurysm or d...\n",
      "3       Direct repair of aneurysm, pseudoaneurysm, or ...\n",
      "4       Direct repair of aneurysm, pseudoaneurysm, or ...\n",
      "                              ...                        \n",
      "1163                  Revision of peritoneal-venous shunt\n",
      "1164    Suture, secondary, of abdominal wall for evisc...\n",
      "1165    Omental flap, intra-abdominal (List separately...\n",
      "1166     Free omental flap with microvascular anastomosis\n",
      "1167    Laparotomy, for staging or restaging of ovaria...\n",
      "Name: Procedure Code Descriptions, Length: 1168, dtype: object\n"
     ]
    }
   ],
   "source": [
    "# Viewing data of important columns\n",
    "print(\"\\nData in 'CPT Codes' column:\")\n",
    "print(df['CPT Codes'])\n",
    "\n",
    "print(\"\\nData in 'Procedure Code Descriptions' column:\")\n",
    "print(df['Procedure Code Descriptions'])"
   ]
  },
  {
   "cell_type": "code",
   "execution_count": 5,
   "id": "86e8e5cc",
   "metadata": {},
   "outputs": [],
   "source": [
    "# Preprocessing the data\n",
    "df['CPT Codes'] = df['CPT Codes'].astype(str)\n",
    "df['Procedure Code Descriptions'] = df['Procedure Code Descriptions'].fillna('')"
   ]
  },
  {
   "cell_type": "code",
   "execution_count": 6,
   "id": "1e14f78e",
   "metadata": {},
   "outputs": [],
   "source": [
    "from sklearn.feature_extraction.text import TfidfVectorizer\n",
    "from sklearn.metrics.pairwise import cosine_similarity"
   ]
  },
  {
   "cell_type": "code",
   "execution_count": 7,
   "id": "6e1d7ca8",
   "metadata": {},
   "outputs": [],
   "source": [
    "# Extracting the features\n",
    "vectorizer = TfidfVectorizer()\n",
    "description_vectors = vectorizer.fit_transform(df['Procedure Code Descriptions'])"
   ]
  },
  {
   "cell_type": "code",
   "execution_count": 8,
   "id": "f918d76e",
   "metadata": {},
   "outputs": [],
   "source": [
    "# Training a recommendation model\n",
    "cosine_sim_matrix = cosine_similarity(description_vectors)"
   ]
  },
  {
   "cell_type": "code",
   "execution_count": 9,
   "id": "04f5a033",
   "metadata": {},
   "outputs": [],
   "source": [
    "# Function to recommend CPT codes based on input CPT code\n",
    "def recommend_cpt(input_cpt, top_n=2):\n",
    "    recommended_cpts = []\n",
    "    if input_cpt in df['CPT Codes'].values:\n",
    "        index = df[df['CPT Codes'] == input_cpt].index[0]\n",
    "        similarities = cosine_sim_matrix[index]\n",
    "        top_indices = similarities.argsort()[-top_n-1:-1][::-1] \n",
    "        recommended_cpt_codes = df.loc[top_indices, 'CPT Codes'].values\n",
    "        recommended_cpt_names = df.loc[top_indices, 'Procedure Code Descriptions'].values\n",
    "        similarity_scores = similarities[top_indices]\n",
    "        recommended_cpts = list(zip(recommended_cpt_codes, recommended_cpt_names, similarity_scores))\n",
    "    return recommended_cpts"
   ]
  },
  {
   "cell_type": "code",
   "execution_count": 10,
   "id": "fc1a02e2",
   "metadata": {},
   "outputs": [
    {
     "name": "stdout",
     "output_type": "stream",
     "text": [
      "Given CPT: 34830 CPT code: Open repair of infrarenal aortic aneurysm or dissection, plus repair of associated arterial trauma, following unsuccessful endovascular repair; tube prosthesis  \n",
      "\n",
      "Recommended CPTs:\n",
      "34832: Open repair of infrarenal aortic aneurysm or dissection, plus repair of associated arterial trauma, following unsuccessful endovascular repair; aorto-bifemoral prosthesis  \n",
      "Similarity Score: 0.8943709370003284\n",
      "\n",
      "34831: Open repair of infrarenal aortic aneurysm or dissection, plus repair of associated arterial trauma, following unsuccessful endovascular repair; aorto-bi-iliac prosthesis \n",
      "Similarity Score: 0.8675368098373953\n",
      "\n"
     ]
    }
   ],
   "source": [
    "# Example recommending CPTs for given CPT\n",
    "input_cpt = '34830'\n",
    "input_cpt_description = df.loc[df['CPT Codes'] == input_cpt, 'Procedure Code Descriptions'].values[0]\n",
    "\n",
    "recommendations = recommend_cpt(input_cpt)\n",
    "\n",
    "print(f\"Given CPT: {input_cpt} CPT code: {input_cpt_description}\\n\")\n",
    "print(\"Recommended CPTs:\")\n",
    "for cpt_code, cpt_name, similarity_score in recommendations:\n",
    "    print(f\"{cpt_code}: {cpt_name}\")\n",
    "    print(f\"Similarity Score: {similarity_score}\")\n",
    "    print()"
   ]
  },
  {
   "cell_type": "code",
   "execution_count": 11,
   "id": "d1e36a83",
   "metadata": {},
   "outputs": [],
   "source": [
    "# Function to recommend CPT codes based on input CPT codes\n",
    "def recommend_cpts_multiple_input(input_cpts, top_n=2):\n",
    "    recommended_cpts = []\n",
    "    for input_cpt in input_cpts:\n",
    "        if input_cpt in df['CPT Codes'].values:\n",
    "            index = df[df['CPT Codes'] == input_cpt].index[0]\n",
    "            similarities = cosine_sim_matrix[index]\n",
    "            top_indices = similarities.argsort()[-top_n-1:-1][::-1] \n",
    "            recommended_cpt_codes = df.loc[top_indices, 'CPT Codes'].values\n",
    "            recommended_cpt_names = df.loc[top_indices, 'Procedure Code Descriptions'].values\n",
    "            similarity_scores = similarities[top_indices]\n",
    "            recommended_cpts.append(list(zip(recommended_cpt_codes, recommended_cpt_names, similarity_scores)))\n",
    "    return recommended_cpts"
   ]
  },
  {
   "cell_type": "code",
   "execution_count": 12,
   "id": "505d9dcb",
   "metadata": {},
   "outputs": [
    {
     "name": "stdout",
     "output_type": "stream",
     "text": [
      "\n",
      "Given CPT: 34830 CPT code: Open repair of infrarenal aortic aneurysm or dissection, plus repair of associated arterial trauma, following unsuccessful endovascular repair; tube prosthesis  \n",
      "\n",
      "Recommended CPTs:\n",
      "34832: Open repair of infrarenal aortic aneurysm or dissection, plus repair of associated arterial trauma, following unsuccessful endovascular repair; aorto-bifemoral prosthesis  \n",
      "Similarity Score: 0.8943709370003284\n",
      "\n",
      "34831: Open repair of infrarenal aortic aneurysm or dissection, plus repair of associated arterial trauma, following unsuccessful endovascular repair; aorto-bi-iliac prosthesis \n",
      "Similarity Score: 0.8675368098373953\n",
      "\n",
      "\n",
      "Given CPT: 35082 CPT code: Direct repair of aneurysm, pseudoaneurysm, or excision (partial or total) and graft insertion, with or without patch graft; for ruptured aneurysm, abdominal aorta  \n",
      "\n",
      "Recommended CPTs:\n",
      "35081: Direct repair of aneurysm, pseudoaneurysm, or excision (partial or total) and graft insertion, with or without patch graft; for aneurysm, pseudoaneurysm, and associated occlusive disease, abdominal aorta\n",
      "Similarity Score: 0.8378184019916985\n",
      "\n",
      "35103: Direct repair of aneurysm, pseudoaneurysm, or excision (partial or total) and graft insertion, with or without patch graft; for ruptured aneurysm, abdominal aorta involving iliac vessels (common, hypogastric, external)  \n",
      "Similarity Score: 0.8235296713046748\n",
      "\n"
     ]
    }
   ],
   "source": [
    "# Example recommending CPTs for given CPTs\n",
    "input_cpts = ['34830', '35082']\n",
    "input_cpt_descriptions = df.loc[df['CPT Codes'].isin(input_cpts), 'Procedure Code Descriptions'].values\n",
    "\n",
    "recommendations = recommend_cpts_multiple_input(input_cpts)\n",
    "\n",
    "for input_cpt, input_cpt_description, cpt_recommendations in zip(input_cpts, input_cpt_descriptions, recommendations):\n",
    "    print(f\"\\nGiven CPT: {input_cpt} CPT code: {input_cpt_description}\\n\")\n",
    "    print(\"Recommended CPTs:\")\n",
    "    for cpt_code, cpt_name, similarity_score in cpt_recommendations:\n",
    "        print(f\"{cpt_code}: {cpt_name}\")\n",
    "        print(f\"Similarity Score: {similarity_score}\")\n",
    "        print()"
   ]
  }
 ],
 "metadata": {
  "kernelspec": {
   "display_name": "Python 3 (ipykernel)",
   "language": "python",
   "name": "python3"
  },
  "language_info": {
   "codemirror_mode": {
    "name": "ipython",
    "version": 3
   },
   "file_extension": ".py",
   "mimetype": "text/x-python",
   "name": "python",
   "nbconvert_exporter": "python",
   "pygments_lexer": "ipython3",
   "version": "3.9.13"
  }
 },
 "nbformat": 4,
 "nbformat_minor": 5
}
